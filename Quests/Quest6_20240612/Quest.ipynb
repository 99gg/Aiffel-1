{
 "cells": [
  {
   "cell_type": "code",
   "execution_count": 5,
   "id": "1d3e0d20",
   "metadata": {},
   "outputs": [
    {
     "name": "stdout",
     "output_type": "stream",
     "text": [
      "1.3.3\n",
      "0.5.2\n",
      "4.1.2\n"
     ]
    }
   ],
   "source": [
    "import pandas\n",
    "import konlpy\n",
    "import gensim\n",
    "\n",
    "print(pandas.__version__)\n",
    "print(konlpy.__version__)\n",
    "print(gensim.__version__)"
   ]
  },
  {
   "cell_type": "markdown",
   "id": "1c3bca82",
   "metadata": {},
   "source": [
    "# 1. 데이터 준비 및 확인"
   ]
  },
  {
   "cell_type": "code",
   "execution_count": 6,
   "id": "e2a7939e",
   "metadata": {},
   "outputs": [
    {
     "data": {
      "text/html": [
       "<div>\n",
       "<style scoped>\n",
       "    .dataframe tbody tr th:only-of-type {\n",
       "        vertical-align: middle;\n",
       "    }\n",
       "\n",
       "    .dataframe tbody tr th {\n",
       "        vertical-align: top;\n",
       "    }\n",
       "\n",
       "    .dataframe thead th {\n",
       "        text-align: right;\n",
       "    }\n",
       "</style>\n",
       "<table border=\"1\" class=\"dataframe\">\n",
       "  <thead>\n",
       "    <tr style=\"text-align: right;\">\n",
       "      <th></th>\n",
       "      <th>id</th>\n",
       "      <th>document</th>\n",
       "      <th>label</th>\n",
       "    </tr>\n",
       "  </thead>\n",
       "  <tbody>\n",
       "    <tr>\n",
       "      <th>0</th>\n",
       "      <td>9976970</td>\n",
       "      <td>아 더빙.. 진짜 짜증나네요 목소리</td>\n",
       "      <td>0</td>\n",
       "    </tr>\n",
       "    <tr>\n",
       "      <th>1</th>\n",
       "      <td>3819312</td>\n",
       "      <td>흠...포스터보고 초딩영화줄....오버연기조차 가볍지 않구나</td>\n",
       "      <td>1</td>\n",
       "    </tr>\n",
       "    <tr>\n",
       "      <th>2</th>\n",
       "      <td>10265843</td>\n",
       "      <td>너무재밓었다그래서보는것을추천한다</td>\n",
       "      <td>0</td>\n",
       "    </tr>\n",
       "    <tr>\n",
       "      <th>3</th>\n",
       "      <td>9045019</td>\n",
       "      <td>교도소 이야기구먼 ..솔직히 재미는 없다..평점 조정</td>\n",
       "      <td>0</td>\n",
       "    </tr>\n",
       "    <tr>\n",
       "      <th>4</th>\n",
       "      <td>6483659</td>\n",
       "      <td>사이몬페그의 익살스런 연기가 돋보였던 영화!스파이더맨에서 늙어보이기만 했던 커스틴 ...</td>\n",
       "      <td>1</td>\n",
       "    </tr>\n",
       "  </tbody>\n",
       "</table>\n",
       "</div>"
      ],
      "text/plain": [
       "         id                                           document  label\n",
       "0   9976970                                아 더빙.. 진짜 짜증나네요 목소리      0\n",
       "1   3819312                  흠...포스터보고 초딩영화줄....오버연기조차 가볍지 않구나      1\n",
       "2  10265843                                  너무재밓었다그래서보는것을추천한다      0\n",
       "3   9045019                      교도소 이야기구먼 ..솔직히 재미는 없다..평점 조정      0\n",
       "4   6483659  사이몬페그의 익살스런 연기가 돋보였던 영화!스파이더맨에서 늙어보이기만 했던 커스틴 ...      1"
      ]
     },
     "execution_count": 6,
     "metadata": {},
     "output_type": "execute_result"
    }
   ],
   "source": [
    "import pandas as pd\n",
    "\n",
    "# 데이터를 읽어봅시다. \n",
    "train_data = pd.read_table('~/aiffel/sentiment_classification/data/ratings_train.txt')\n",
    "test_data = pd.read_table('~/aiffel/sentiment_classification/data/ratings_test.txt')\n",
    "\n",
    "train_data.head()"
   ]
  },
  {
   "cell_type": "markdown",
   "id": "29c0dc32",
   "metadata": {},
   "source": [
    "# 2. 데이터 로더 생성"
   ]
  },
  {
   "cell_type": "code",
   "execution_count": 7,
   "id": "6021842a",
   "metadata": {},
   "outputs": [],
   "source": [
    "from konlpy.tag import Mecab\n",
    "import numpy as np\n",
    "from collections import Counter\n",
    "\n",
    "tokenizer = Mecab()\n",
    "stopwords = ['의','가','이','은','들','는','좀','잘','걍','과','도','를','으로','자','에','와','한','하다']\n",
    "num_words = 10000\n",
    "\n",
    "def load_data(train_data, test_data, num_words=num_words):\n",
    "    # 데이터 중복 제거\n",
    "    train_data.drop_duplicates(subset=['document'], inplace=True)\n",
    "    # NaN 결측치 제거\n",
    "    train_data = train_data.dropna(how='any')\n",
    "    # test_data에도 적용\n",
    "    test_data.drop_duplicates(subset=['document'], inplace=True)\n",
    "    test_data = test_data.dropna(how='any')\n",
    "\n",
    "    X_train = []\n",
    "    for sentence in train_data['document']:\n",
    "        # 토큰화\n",
    "        temp_X = tokenizer.morphs(sentence)\n",
    "        # 불용어 제거\n",
    "        temp_X = [word for word in temp_X if not word in stopwords]\n",
    "        X_train.append(temp_X)\n",
    "\n",
    "    X_test = []\n",
    "    for sentence in test_data['document']:\n",
    "        temp_X = tokenizer.morphs(sentence)\n",
    "        temp_X = [word for word in temp_X if not word in stopwords]\n",
    "        X_test.append(temp_X)\n",
    "\n",
    "    # 사전 word_to_index 구성\n",
    "    words = np.concatenate(X_train).tolist()\n",
    "    # 텍스트 스트링을 사전 인덱스 스트링으로 변환\n",
    "    counter = Counter(words)\n",
    "    counter = counter.most_common(10000-4)\n",
    "    vocab = ['', '', '', ''] + [key for key, _ in counter]\n",
    "    word_to_index = {word:index for index, word in enumerate(vocab)}\n",
    "    \n",
    "    def wordlist_to_indexlist(wordlist):\n",
    "        return [word_to_index[word] if word in word_to_index else word_to_index[''] for word in wordlist]\n",
    "    \n",
    "    X_train = list(map(wordlist_to_indexlist, X_train))\n",
    "    X_test = list(map(wordlist_to_indexlist, X_test))\n",
    "\n",
    "    return X_train, np.array(list(train_data['label'])), X_test, np.array(list(test_data['label'])), word_to_index"
   ]
  },
  {
   "cell_type": "code",
   "execution_count": 8,
   "id": "a22f9f73",
   "metadata": {},
   "outputs": [],
   "source": [
    "# X_train, y_train, X_test, y_test, word_to_index 리턴\n",
    "X_train, y_train, X_test, y_test, word_to_index = load_data(train_data, test_data)"
   ]
  },
  {
   "cell_type": "code",
   "execution_count": 9,
   "id": "eb0cf4ef",
   "metadata": {},
   "outputs": [],
   "source": [
    "index_to_word = {index:word for word, index in word_to_index.items()}"
   ]
  },
  {
   "cell_type": "code",
   "execution_count": 10,
   "id": "31945089",
   "metadata": {},
   "outputs": [],
   "source": [
    "# 문장 1개를 활용할 딕셔너리와 함께 주면, 단어 인덱스 리스트 벡터로 변환해 주는 함수입니다. \n",
    "# 단, 모든 문장은 <BOS>로 시작하는 것으로 합니다. \n",
    "def get_encoded_sentence(sentence, word_to_index):\n",
    "    return [word_to_index['<BOS>']]+[word_to_index[word] if word in word_to_index else word_to_index['<UNK>'] for word in sentence.split()]\n",
    "\n",
    "# 여러 개의 문장 리스트를 한꺼번에 단어 인덱스 리스트 벡터로 encode해 주는 함수입니다. \n",
    "def get_encoded_sentences(sentences, word_to_index):\n",
    "    return [get_encoded_sentence(sentence, word_to_index) for sentence in sentences]\n",
    "\n",
    "# 숫자 벡터로 encode된 문장을 원래대로 decode하는 함수입니다. \n",
    "def get_decoded_sentence(encoded_sentence, index_to_word):\n",
    "    return ' '.join(index_to_word[index] if index in index_to_word else '<UNK>' for index in encoded_sentence[1:])  #[1:]를 통해 <BOS>를 제외\n",
    "\n",
    "# 여러 개의 숫자 벡터로 encode된 문장을 한꺼번에 원래대로 decode하는 함수입니다. \n",
    "def get_decoded_sentences(encoded_sentences, index_to_word):\n",
    "    return [get_decoded_sentence(encoded_sentence, index_to_word) for encoded_sentence in encoded_sentences]"
   ]
  },
  {
   "cell_type": "code",
   "execution_count": 11,
   "id": "3b395f9b",
   "metadata": {},
   "outputs": [
    {
     "name": "stdout",
     "output_type": "stream",
     "text": [
      "문장 최대 길이 : 41\n",
      "전체 문장의 평균 길이 : 15.96940191154864\n",
      "전체 문장의 길이 표준편차 : 12.843571191092\n"
     ]
    }
   ],
   "source": [
    "from tensorflow import keras\n",
    "\n",
    "# 데이터셋 내 문장 길이 분포\n",
    "total_data_text = list(X_train) + list(X_test)\n",
    "num_tokens = [len(tokens) for tokens in total_data_text]\n",
    "num_tokens = np.array(num_tokens)\n",
    "max_tokens = np.mean(num_tokens) + 2 * np.std(num_tokens)\n",
    "# 적절한 최대 문장 길이 지정\n",
    "maxlen = int(max_tokens)\n",
    "print('문장 최대 길이 :', maxlen)\n",
    "print('전체 문장의 평균 길이 :', np.mean(num_tokens))\n",
    "print('전체 문장의 길이 표준편차 :', np.std(num_tokens))\n",
    "# keras.preprocessing.sequence.pad_sequences을 활용한 패딩 추가\n",
    "X_train = keras.preprocessing.sequence.pad_sequences(X_train,\n",
    "                                                        value=word_to_index[\"\"],\n",
    "                                                        padding='post', # 혹은 'pre'\n",
    "                                                        maxlen=maxlen)"
   ]
  },
  {
   "cell_type": "code",
   "execution_count": 12,
   "id": "505931fb",
   "metadata": {},
   "outputs": [
    {
     "name": "stdout",
     "output_type": "stream",
     "text": [
      "Model: \"sequential\"\n",
      "_________________________________________________________________\n",
      "Layer (type)                 Output Shape              Param #   \n",
      "=================================================================\n",
      "embedding (Embedding)        (None, None, 16)          160000    \n",
      "_________________________________________________________________\n",
      "lstm (LSTM)                  (None, 8)                 800       \n",
      "_________________________________________________________________\n",
      "dense (Dense)                (None, 8)                 72        \n",
      "_________________________________________________________________\n",
      "dense_1 (Dense)              (None, 1)                 9         \n",
      "=================================================================\n",
      "Total params: 160,881\n",
      "Trainable params: 160,881\n",
      "Non-trainable params: 0\n",
      "_________________________________________________________________\n"
     ]
    }
   ],
   "source": [
    "X_test = keras.preprocessing.sequence.pad_sequences(X_test, \n",
    "                                                       value=word_to_index[\"\"],\n",
    "                                                       padding='post', # 혹은 'pre'\n",
    "                                                       maxlen=maxlen)\n",
    "\n",
    "# 모델 구성\n",
    "vocab_size = num_words\n",
    "word_vector_dim = 16\n",
    "\n",
    "model = keras.Sequential()\n",
    "model.add(keras.layers.Embedding(vocab_size, word_vector_dim, input_shape=(None,)))\n",
    "model.add(keras.layers.LSTM(8))   # 가장 널리 쓰이는 RNN인 LSTM 레이어를 사용하였습니다. 이때 LSTM state 벡터의 차원수는 8로 하였습니다. (변경 가능)\n",
    "model.add(keras.layers.Dense(8, activation='relu'))\n",
    "model.add(keras.layers.Dense(1, activation='sigmoid'))  # 최종 출력은 긍정/부정을 나타내는 1dim 입니다.\n",
    "\n",
    "model.summary()"
   ]
  },
  {
   "cell_type": "markdown",
   "id": "00ad90e7",
   "metadata": {},
   "source": [
    "# 3. 모델 구성을 위한 데이터 분석 및 가공"
   ]
  },
  {
   "cell_type": "code",
   "execution_count": 13,
   "id": "d9bb9612",
   "metadata": {},
   "outputs": [
    {
     "name": "stdout",
     "output_type": "stream",
     "text": [
      "문장 최대 길이 : 41\n",
      "전체 문장의 평균 길이 : 41.0\n",
      "전체 문장의 길이 표준편차 : 0.0\n"
     ]
    }
   ],
   "source": [
    "from tensorflow import keras\n",
    "\n",
    "# 데이터셋 내 문장 길이 분포\n",
    "total_data_text = list(X_train) + list(X_test)\n",
    "num_tokens = [len(tokens) for tokens in total_data_text]\n",
    "num_tokens = np.array(num_tokens)\n",
    "max_tokens = np.mean(num_tokens) + 2 * np.std(num_tokens)\n",
    "# 적절한 최대 문장 길이 지정\n",
    "maxlen = int(max_tokens)\n",
    "print('문장 최대 길이 :', maxlen)\n",
    "print('전체 문장의 평균 길이 :', np.mean(num_tokens))\n",
    "print('전체 문장의 길이 표준편차 :', np.std(num_tokens))\n",
    "# keras.preprocessing.sequence.pad_sequences을 활용한 패딩 추가\n",
    "X_train = keras.preprocessing.sequence.pad_sequences(X_train,\n",
    "                                                        value=word_to_index[\"\"],\n",
    "                                                        padding='post', # 혹은 'pre'\n",
    "                                                        maxlen=maxlen)"
   ]
  },
  {
   "cell_type": "markdown",
   "id": "c00d63ef",
   "metadata": {},
   "source": [
    "# 4. 모델 구성 및 validation set 구성"
   ]
  },
  {
   "cell_type": "code",
   "execution_count": 14,
   "id": "efd73ced",
   "metadata": {},
   "outputs": [],
   "source": [
    "# validation set 구성\n",
    "from sklearn.model_selection import train_test_split\n",
    "\n",
    "X_train, X_val, y_train, y_val = train_test_split(X_train, y_train, test_size=0.2, random_state=42)"
   ]
  },
  {
   "cell_type": "code",
   "execution_count": 15,
   "id": "2c4801a1",
   "metadata": {},
   "outputs": [
    {
     "name": "stdout",
     "output_type": "stream",
     "text": [
      "Model: \"sequential_1\"\n",
      "_________________________________________________________________\n",
      "Layer (type)                 Output Shape              Param #   \n",
      "=================================================================\n",
      "embedding_1 (Embedding)      (None, None, 16)          160000    \n",
      "_________________________________________________________________\n",
      "lstm_1 (LSTM)                (None, 8)                 800       \n",
      "_________________________________________________________________\n",
      "dense_2 (Dense)              (None, 8)                 72        \n",
      "_________________________________________________________________\n",
      "dense_3 (Dense)              (None, 1)                 9         \n",
      "=================================================================\n",
      "Total params: 160,881\n",
      "Trainable params: 160,881\n",
      "Non-trainable params: 0\n",
      "_________________________________________________________________\n"
     ]
    }
   ],
   "source": [
    "# 모델 구성\n",
    "vocab_size = num_words\n",
    "word_vector_dim = 16\n",
    "\n",
    "model = keras.Sequential()\n",
    "model.add(keras.layers.Embedding(vocab_size, word_vector_dim, input_shape=(None,)))\n",
    "model.add(keras.layers.LSTM(8))   # 가장 널리 쓰이는 RNN인 LSTM 레이어를 사용하였습니다. 이때 LSTM state 벡터의 차원수는 8로 하였습니다. (변경 가능)\n",
    "model.add(keras.layers.Dense(8, activation='relu'))\n",
    "model.add(keras.layers.Dense(1, activation='sigmoid'))  # 최종 출력은 긍정/부정을 나타내는 1dim 입니다.\n",
    "\n",
    "model.summary()"
   ]
  },
  {
   "cell_type": "markdown",
   "id": "04b391d6",
   "metadata": {},
   "source": [
    "# 5. 모델 훈련 개시"
   ]
  },
  {
   "cell_type": "code",
   "execution_count": 16,
   "id": "65bde241",
   "metadata": {},
   "outputs": [
    {
     "name": "stdout",
     "output_type": "stream",
     "text": [
      "Epoch 1/20\n",
      "229/229 [==============================] - 6s 9ms/step - loss: 0.5510 - accuracy: 0.7233 - val_loss: 0.4017 - val_accuracy: 0.8317\n",
      "Epoch 2/20\n",
      "229/229 [==============================] - 2s 7ms/step - loss: 0.3555 - accuracy: 0.8515 - val_loss: 0.3615 - val_accuracy: 0.8442\n",
      "Epoch 3/20\n",
      "229/229 [==============================] - 2s 7ms/step - loss: 0.3230 - accuracy: 0.8657 - val_loss: 0.3610 - val_accuracy: 0.8451\n",
      "Epoch 4/20\n",
      "229/229 [==============================] - 2s 7ms/step - loss: 0.3118 - accuracy: 0.8693 - val_loss: 0.3623 - val_accuracy: 0.8453\n",
      "Epoch 5/20\n",
      "229/229 [==============================] - 2s 7ms/step - loss: 0.3030 - accuracy: 0.8738 - val_loss: 0.3594 - val_accuracy: 0.8452\n",
      "Epoch 6/20\n",
      "229/229 [==============================] - 2s 7ms/step - loss: 0.2952 - accuracy: 0.8775 - val_loss: 0.3646 - val_accuracy: 0.8442\n",
      "Epoch 7/20\n",
      "229/229 [==============================] - 2s 7ms/step - loss: 0.2875 - accuracy: 0.8813 - val_loss: 0.3667 - val_accuracy: 0.8453\n",
      "Epoch 8/20\n",
      "229/229 [==============================] - 2s 7ms/step - loss: 0.2810 - accuracy: 0.8844 - val_loss: 0.3700 - val_accuracy: 0.8432\n",
      "Epoch 9/20\n",
      "229/229 [==============================] - 2s 7ms/step - loss: 0.2700 - accuracy: 0.8902 - val_loss: 0.3725 - val_accuracy: 0.8432\n",
      "Epoch 10/20\n",
      "229/229 [==============================] - 2s 7ms/step - loss: 0.2582 - accuracy: 0.8963 - val_loss: 0.3772 - val_accuracy: 0.8426\n",
      "Epoch 11/20\n",
      "229/229 [==============================] - 2s 7ms/step - loss: 0.2480 - accuracy: 0.9008 - val_loss: 0.3915 - val_accuracy: 0.8426\n",
      "Epoch 12/20\n",
      "229/229 [==============================] - 2s 7ms/step - loss: 0.2364 - accuracy: 0.9069 - val_loss: 0.3976 - val_accuracy: 0.8397\n",
      "Epoch 13/20\n",
      "229/229 [==============================] - 2s 7ms/step - loss: 0.2285 - accuracy: 0.9102 - val_loss: 0.4168 - val_accuracy: 0.8401\n",
      "Epoch 14/20\n",
      "229/229 [==============================] - 2s 7ms/step - loss: 0.2172 - accuracy: 0.9160 - val_loss: 0.4166 - val_accuracy: 0.8376\n",
      "Epoch 15/20\n",
      "229/229 [==============================] - 2s 7ms/step - loss: 0.2088 - accuracy: 0.9204 - val_loss: 0.4302 - val_accuracy: 0.8380\n",
      "Epoch 16/20\n",
      "229/229 [==============================] - 2s 7ms/step - loss: 0.2004 - accuracy: 0.9237 - val_loss: 0.4488 - val_accuracy: 0.8372\n",
      "Epoch 17/20\n",
      "229/229 [==============================] - 2s 7ms/step - loss: 0.1945 - accuracy: 0.9257 - val_loss: 0.4508 - val_accuracy: 0.8356\n",
      "Epoch 18/20\n",
      "229/229 [==============================] - 2s 7ms/step - loss: 0.1868 - accuracy: 0.9302 - val_loss: 0.4667 - val_accuracy: 0.8365\n",
      "Epoch 19/20\n",
      "229/229 [==============================] - 2s 7ms/step - loss: 0.1817 - accuracy: 0.9329 - val_loss: 0.4755 - val_accuracy: 0.8314\n",
      "Epoch 20/20\n",
      "229/229 [==============================] - 2s 7ms/step - loss: 0.1783 - accuracy: 0.9340 - val_loss: 0.4871 - val_accuracy: 0.8328\n"
     ]
    }
   ],
   "source": [
    "# 모델 훈련 개시\n",
    "model.compile(optimizer='adam',\n",
    "              loss='binary_crossentropy',\n",
    "              metrics=['accuracy'])\n",
    "\n",
    "history = model.fit(X_train, y_train, epochs=20, batch_size=512, validation_data=(X_test, y_test), verbose=1)"
   ]
  },
  {
   "cell_type": "markdown",
   "id": "10603b2b",
   "metadata": {},
   "source": [
    "# 6. Loss, Accuracy 그래프 시각화"
   ]
  },
  {
   "cell_type": "code",
   "execution_count": 17,
   "id": "d4e4a065",
   "metadata": {},
   "outputs": [
    {
     "name": "stdout",
     "output_type": "stream",
     "text": [
      "dict_keys(['loss', 'accuracy', 'val_loss', 'val_accuracy'])\n"
     ]
    },
    {
     "data": {
      "image/png": "[encoded data removed]",
      "text/plain": [
       "<Figure size 432x288 with 1 Axes>"
      ]
     },
     "metadata": {
      "needs_background": "light"
     },
     "output_type": "display_data"
    }
   ],
   "source": [
    "# Loss, Accuracy 그래프 시각화\n",
    "import matplotlib.pyplot as plt\n",
    "\n",
    "history_dict = history.history\n",
    "print(history_dict.keys()) # epoch에 따른 그래프를 그려볼 수 있는 항목들\n",
    "\n",
    "acc = history_dict['accuracy']\n",
    "val_acc = history_dict['val_accuracy']\n",
    "loss = history_dict['loss']\n",
    "val_loss = history_dict['val_loss']\n",
    "\n",
    "epochs = range(1, len(acc) + 1)\n",
    "\n",
    "# \"bo\"는 \"파란색 점\"입니다\n",
    "plt.plot(epochs, loss, 'bo', label='Training loss')\n",
    "# b는 \"파란 실선\"입니다\n",
    "plt.plot(epochs, val_loss, 'b', label='Validation loss')\n",
    "plt.title('Training and validation loss')\n",
    "plt.xlabel('Epochs')\n",
    "plt.ylabel('Loss')\n",
    "plt.legend()\n",
    "plt.show()"
   ]
  },
  {
   "cell_type": "markdown",
   "id": "ac1c8059",
   "metadata": {},
   "source": [
    "# 7. 학습된 Embedding 레이어 분석"
   ]
  },
  {
   "cell_type": "code",
   "execution_count": 18,
   "id": "7dc57077",
   "metadata": {},
   "outputs": [
    {
     "name": "stdout",
     "output_type": "stream",
     "text": [
      "1537/1537 - 3s - loss: 0.4871 - accuracy: 0.8328\n",
      "[0.4871031939983368, 0.8328213691711426]\n",
      "(10000, 16)\n"
     ]
    }
   ],
   "source": [
    "# 테스트셋을 통한 모델 평가\n",
    "results = model.evaluate(X_test,  y_test, verbose=2)\n",
    "\n",
    "print(results)\n",
    "\n",
    "# 학습된 Embedding 레이어 분석\n",
    "embedding_layer = model.layers[0]\n",
    "weights = embedding_layer.get_weights()[0]\n",
    "print(weights.shape)    # shape: (vocab_size, embedding_dim)"
   ]
  },
  {
   "cell_type": "markdown",
   "id": "f8ba5cc3",
   "metadata": {},
   "source": [
    "# 8. 한국어 Word2Vec 임베딩 활용하여 성능 개선"
   ]
  },
  {
   "cell_type": "code",
   "execution_count": 25,
   "id": "9c3e908b",
   "metadata": {},
   "outputs": [],
   "source": [
    "# Word2Vec 임베딩 활용하여 성능 개선\n",
    "import os\n",
    "import gensim\n",
    "word2vec_path = os.getenv('HOME')+'/data/word2vec_ko.model'\n",
    "word2vec = gensim.models.Word2Vec.load(word2vec_path)\n",
    "\n",
    "vocab_size = len(word_to_index) + 1\n",
    "word_vector_dim = 100\n",
    "\n",
    "embedding_matrix = np.random.rand(vocab_size, word_vector_dim)\n",
    "\n",
    "# embedding_matrix에 Word2Vec 워드 벡터를 단어 하나씩마다 차례차례 카피\n",
    "for i in range(4,vocab_size):\n",
    "    if index_to_word[i] in word2vec.wv:\n",
    "        embedding_matrix[i] = word2vec.wv[index_to_word[i]]"
   ]
  },
  {
   "cell_type": "code",
   "execution_count": 26,
   "id": "db2f8928",
   "metadata": {},
   "outputs": [
    {
     "name": "stdout",
     "output_type": "stream",
     "text": [
      "Model: \"sequential_2\"\n",
      "_________________________________________________________________\n",
      "Layer (type)                 Output Shape              Param #   \n",
      "=================================================================\n",
      "embedding_2 (Embedding)      (None, 41, 100)           999800    \n",
      "_________________________________________________________________\n",
      "lstm_2 (LSTM)                (None, 8)                 3488      \n",
      "_________________________________________________________________\n",
      "dense_4 (Dense)              (None, 8)                 72        \n",
      "_________________________________________________________________\n",
      "dense_5 (Dense)              (None, 1)                 9         \n",
      "=================================================================\n",
      "Total params: 1,003,369\n",
      "Trainable params: 1,003,369\n",
      "Non-trainable params: 0\n",
      "_________________________________________________________________\n"
     ]
    }
   ],
   "source": [
    "model = keras.Sequential()\n",
    "model.add(keras.layers.Embedding(vocab_size, \n",
    "                                 word_vector_dim, \n",
    "                                 embeddings_initializer=keras.initializers.Constant(embedding_matrix),  # 카피한 임베딩을 여기서 활용\n",
    "                                 input_length=maxlen, \n",
    "                                 trainable=True))   # trainable을 True로 주면 Fine-tuning\n",
    "\n",
    "model.add(keras.layers.LSTM(8))\n",
    "model.add(keras.layers.Dense(8, activation='relu'))\n",
    "model.add(keras.layers.Dense(1, activation='sigmoid'))  # 최종 출력은 긍정/부정을 나타내는 1dim 입니다.\n",
    "\n",
    "model.summary()"
   ]
  },
  {
   "cell_type": "code",
   "execution_count": 28,
   "id": "101ff9f5",
   "metadata": {},
   "outputs": [
    {
     "name": "stdout",
     "output_type": "stream",
     "text": [
      "Epoch 1/20\n",
      "229/229 [==============================] - 4s 9ms/step - loss: 0.6881 - accuracy: 0.5255 - val_loss: 0.6542 - val_accuracy: 0.6379\n",
      "Epoch 2/20\n",
      "229/229 [==============================] - 2s 7ms/step - loss: 0.5941 - accuracy: 0.6982 - val_loss: 0.5232 - val_accuracy: 0.7506\n",
      "Epoch 3/20\n",
      "229/229 [==============================] - 2s 7ms/step - loss: 0.4622 - accuracy: 0.7890 - val_loss: 0.4289 - val_accuracy: 0.8059\n",
      "Epoch 4/20\n",
      "229/229 [==============================] - 2s 7ms/step - loss: 0.3923 - accuracy: 0.8275 - val_loss: 0.3978 - val_accuracy: 0.8241\n",
      "Epoch 5/20\n",
      "229/229 [==============================] - 2s 7ms/step - loss: 0.3577 - accuracy: 0.8458 - val_loss: 0.3833 - val_accuracy: 0.8317\n",
      "Epoch 6/20\n",
      "229/229 [==============================] - 2s 7ms/step - loss: 0.3355 - accuracy: 0.8569 - val_loss: 0.3736 - val_accuracy: 0.8355\n",
      "Epoch 7/20\n",
      "229/229 [==============================] - 2s 7ms/step - loss: 0.3200 - accuracy: 0.8651 - val_loss: 0.3735 - val_accuracy: 0.8390\n",
      "Epoch 8/20\n",
      "229/229 [==============================] - 2s 7ms/step - loss: 0.3074 - accuracy: 0.8710 - val_loss: 0.3687 - val_accuracy: 0.8412\n",
      "Epoch 9/20\n",
      "229/229 [==============================] - 2s 7ms/step - loss: 0.2966 - accuracy: 0.8760 - val_loss: 0.3707 - val_accuracy: 0.8412\n",
      "Epoch 10/20\n",
      "229/229 [==============================] - 2s 7ms/step - loss: 0.2872 - accuracy: 0.8813 - val_loss: 0.3765 - val_accuracy: 0.8424\n",
      "Epoch 11/20\n",
      "229/229 [==============================] - 2s 7ms/step - loss: 0.2791 - accuracy: 0.8859 - val_loss: 0.3726 - val_accuracy: 0.8426\n",
      "Epoch 12/20\n",
      "229/229 [==============================] - 2s 7ms/step - loss: 0.2716 - accuracy: 0.8891 - val_loss: 0.3778 - val_accuracy: 0.8424\n",
      "Epoch 13/20\n",
      "229/229 [==============================] - 2s 7ms/step - loss: 0.2644 - accuracy: 0.8932 - val_loss: 0.3775 - val_accuracy: 0.8416\n",
      "Epoch 14/20\n",
      "229/229 [==============================] - 2s 7ms/step - loss: 0.2578 - accuracy: 0.8965 - val_loss: 0.3764 - val_accuracy: 0.8415\n",
      "Epoch 15/20\n",
      "229/229 [==============================] - 2s 7ms/step - loss: 0.2520 - accuracy: 0.8993 - val_loss: 0.3886 - val_accuracy: 0.8409\n",
      "Epoch 16/20\n",
      "229/229 [==============================] - 2s 7ms/step - loss: 0.2460 - accuracy: 0.9023 - val_loss: 0.3867 - val_accuracy: 0.8399\n",
      "Epoch 17/20\n",
      "229/229 [==============================] - 2s 7ms/step - loss: 0.2397 - accuracy: 0.9058 - val_loss: 0.3925 - val_accuracy: 0.8414\n",
      "Epoch 18/20\n",
      "229/229 [==============================] - 2s 7ms/step - loss: 0.2339 - accuracy: 0.9088 - val_loss: 0.4046 - val_accuracy: 0.8343\n",
      "Epoch 19/20\n",
      "229/229 [==============================] - 2s 7ms/step - loss: 0.2283 - accuracy: 0.9110 - val_loss: 0.4080 - val_accuracy: 0.8392\n",
      "Epoch 20/20\n",
      "229/229 [==============================] - 2s 7ms/step - loss: 0.2231 - accuracy: 0.9141 - val_loss: 0.4162 - val_accuracy: 0.8386\n"
     ]
    }
   ],
   "source": [
    "# 모델 훈련 개시\n",
    "model.compile(optimizer='adam',\n",
    "              loss='binary_crossentropy',\n",
    "              metrics=['accuracy'])\n",
    "\n",
    "history = model.fit(X_train, y_train, epochs=20, batch_size=512, validation_data=(X_test, y_test), verbose=1)"
   ]
  },
  {
   "cell_type": "code",
   "execution_count": 29,
   "id": "b23e24ab",
   "metadata": {},
   "outputs": [
    {
     "name": "stdout",
     "output_type": "stream",
     "text": [
      "dict_keys(['loss', 'accuracy', 'val_loss', 'val_accuracy'])\n"
     ]
    },
    {
     "data": {
      "image/png": "[encoded data removed]",
      "text/plain": [
       "<Figure size 432x288 with 1 Axes>"
      ]
     },
     "metadata": {
      "needs_background": "light"
     },
     "output_type": "display_data"
    }
   ],
   "source": [
    "# Loss, Accuracy 그래프 시각화\n",
    "import matplotlib.pyplot as plt\n",
    "\n",
    "history_dict = history.history\n",
    "print(history_dict.keys()) # epoch에 따른 그래프를 그려볼 수 있는 항목들\n",
    "\n",
    "acc = history_dict['accuracy']\n",
    "val_acc = history_dict['val_accuracy']\n",
    "loss = history_dict['loss']\n",
    "val_loss = history_dict['val_loss']\n",
    "\n",
    "epochs = range(1, len(acc) + 1)\n",
    "\n",
    "# \"bo\"는 \"파란색 점\"입니다\n",
    "plt.plot(epochs, loss, 'bo', label='Training loss')\n",
    "# b는 \"파란 실선\"입니다\n",
    "plt.plot(epochs, val_loss, 'b', label='Validation loss')\n",
    "plt.title('Training and validation loss')\n",
    "plt.xlabel('Epochs')\n",
    "plt.ylabel('Loss')\n",
    "plt.legend()\n",
    "plt.show()"
   ]
  },
  {
   "cell_type": "code",
   "execution_count": 33,
   "id": "a252baad",
   "metadata": {},
   "outputs": [
    {
     "name": "stdout",
     "output_type": "stream",
     "text": [
      "Accuracy: 83.86%\n"
     ]
    }
   ],
   "source": [
    "loss, accuracy = model.evaluate(X_test, y_test, verbose=0)\n",
    "print(f'Accuracy: {accuracy*100:.2f}%')"
   ]
  },
  {
   "cell_type": "code",
   "execution_count": null,
   "id": "4b6d1091",
   "metadata": {},
   "outputs": [],
   "source": []
  }
 ],
 "metadata": {
  "kernelspec": {
   "display_name": "Python 3 (ipykernel)",
   "language": "python",
   "name": "python3"
  },
  "language_info": {
   "codemirror_mode": {
    "name": "ipython",
    "version": 3
   },
   "file_extension": ".py",
   "mimetype": "text/x-python",
   "name": "python",
   "nbconvert_exporter": "python",
   "pygments_lexer": "ipython3",
   "version": "3.10.14"
  }
 },
 "nbformat": 4,
 "nbformat_minor": 5
}
